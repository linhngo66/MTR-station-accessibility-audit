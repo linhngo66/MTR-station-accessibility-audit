{
 "cells": [
  {
   "cell_type": "markdown",
   "id": "de7d0733",
   "metadata": {},
   "source": [
    "____\n",
    "\n",
    "# Ho Thi Hai Yen\n",
    "\n",
    "## Python Intermediate Programming Assignment 2\n",
    "\n",
    "___"
   ]
  },
  {
   "cell_type": "markdown",
   "id": "53b53c0e",
   "metadata": {},
   "source": [
    "# 1. Import required packages"
   ]
  },
  {
   "cell_type": "code",
   "execution_count": null,
   "id": "176aa5a9",
   "metadata": {
    "vscode": {
     "languageId": "plaintext"
    }
   },
   "outputs": [],
   "source": [
    "import numpy as np\n",
    "import pandas as pd\n",
    "import matplotlib.pyplot as plt\n",
    "import requests\n",
    "import json"
   ]
  },
  {
   "cell_type": "markdown",
   "id": "7d19079d",
   "metadata": {},
   "source": [
    "# 2. Data import"
   ]
  }
 ],
 "metadata": {
  "language_info": {
   "name": "python"
  }
 },
 "nbformat": 4,
 "nbformat_minor": 5
}
