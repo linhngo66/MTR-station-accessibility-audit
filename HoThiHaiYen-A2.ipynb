{
 "cells": [
  {
   "cell_type": "markdown",
   "id": "de7d0733",
   "metadata": {},
   "source": [
    "____\n",
    "\n",
    "# Ho Thi Hai Yen\n",
    "\n",
    "## Python Intermediate Programming Assignment 2\n",
    "\n",
    "___"
   ]
  },
  {
   "cell_type": "markdown",
   "id": "53b53c0e",
   "metadata": {},
   "source": [
    "# 1. Import required packages and set working directory"
   ]
  },
  {
   "cell_type": "code",
   "execution_count": 13,
   "id": "176aa5a9",
   "metadata": {},
   "outputs": [],
   "source": [
    "import numpy as np\n",
    "import pandas as pd\n",
    "import matplotlib.pyplot as plt\n",
    "import requests\n",
    "import json\n",
    "import os"
   ]
  },
  {
   "cell_type": "markdown",
   "id": "7d19079d",
   "metadata": {},
   "source": [
    "# 2. Data cleaning & transformation\n",
    "\n",
    "- MTR routes, fares and barrier-free facilities: https://data.gov.hk/en-data/dataset/mtr-data-routes-fares-barrier-free-facilities\n",
    "- Cencus data on Hong Kong population by age and district location: \n",
    "- Geospatial data on bus stops and MTR station exits\n"
   ]
  },
  {
   "cell_type": "markdown",
   "id": "9f6e392a",
   "metadata": {},
   "source": [
    "## 2.1. MTR routes, fares and barrier-free facilities\n",
    "\n",
    "**Add notes about what the datasets are**"
   ]
  },
  {
   "cell_type": "code",
   "execution_count": 14,
   "id": "3163fbd2",
   "metadata": {},
   "outputs": [],
   "source": [
    "barrier_free_facility = pd.read_csv('data/raw/barrier_free_facilities.csv')\n",
    "barrier_free_facility_category = pd.read_csv('data/raw/barrier_free_facility_category.csv')\n",
    "mtr_lines_and_stations = pd.read_csv('data/raw/mtr_lines_and_stations.csv')"
   ]
  },
  {
   "cell_type": "markdown",
   "id": "70ee64e4",
   "metadata": {},
   "source": [
    "### Barrier free facility "
   ]
  },
  {
   "cell_type": "code",
   "execution_count": 15,
   "id": "e566101b",
   "metadata": {},
   "outputs": [
    {
     "data": {
      "application/vnd.microsoft.datawrangler.viewer.v0+json": {
       "columns": [
        {
         "name": "index",
         "rawType": "int64",
         "type": "integer"
        },
        {
         "name": "Station_No",
         "rawType": "int64",
         "type": "integer"
        },
        {
         "name": "Key",
         "rawType": "object",
         "type": "string"
        },
        {
         "name": "Value",
         "rawType": "object",
         "type": "string"
        },
        {
         "name": "AJTextEn",
         "rawType": "object",
         "type": "unknown"
        },
        {
         "name": "AJTextZh",
         "rawType": "object",
         "type": "unknown"
        },
        {
         "name": "Exit_Coordinate_X_Y",
         "rawType": "float64",
         "type": "float"
        }
       ],
       "conversionMethod": "pd.DataFrame",
       "ref": "f719a4ee-ca9f-424a-a082-f7d9432c5215",
       "rows": [
        [
         "0",
         "117",
         "AJ1",
         "N",
         null,
         null,
         null
        ],
        [
         "1",
         "117",
         "AJ2",
         "Y",
         "Exit B2",
         "B2 出口",
         null
        ],
        [
         "2",
         "117",
         "AJ3",
         "Y",
         "Exit A",
         "A 出口",
         null
        ],
        [
         "3",
         "117",
         "AJ4",
         "N",
         null,
         null,
         null
        ],
        [
         "4",
         "117",
         "AJ5",
         "N",
         null,
         null,
         null
        ]
       ],
       "shape": {
        "columns": 6,
        "rows": 5
       }
      },
      "text/html": [
       "<div>\n",
       "<style scoped>\n",
       "    .dataframe tbody tr th:only-of-type {\n",
       "        vertical-align: middle;\n",
       "    }\n",
       "\n",
       "    .dataframe tbody tr th {\n",
       "        vertical-align: top;\n",
       "    }\n",
       "\n",
       "    .dataframe thead th {\n",
       "        text-align: right;\n",
       "    }\n",
       "</style>\n",
       "<table border=\"1\" class=\"dataframe\">\n",
       "  <thead>\n",
       "    <tr style=\"text-align: right;\">\n",
       "      <th></th>\n",
       "      <th>Station_No</th>\n",
       "      <th>Key</th>\n",
       "      <th>Value</th>\n",
       "      <th>AJTextEn</th>\n",
       "      <th>AJTextZh</th>\n",
       "      <th>Exit_Coordinate_X_Y</th>\n",
       "    </tr>\n",
       "  </thead>\n",
       "  <tbody>\n",
       "    <tr>\n",
       "      <th>0</th>\n",
       "      <td>117</td>\n",
       "      <td>AJ1</td>\n",
       "      <td>N</td>\n",
       "      <td>NaN</td>\n",
       "      <td>NaN</td>\n",
       "      <td>NaN</td>\n",
       "    </tr>\n",
       "    <tr>\n",
       "      <th>1</th>\n",
       "      <td>117</td>\n",
       "      <td>AJ2</td>\n",
       "      <td>Y</td>\n",
       "      <td>Exit B2</td>\n",
       "      <td>B2 出口</td>\n",
       "      <td>NaN</td>\n",
       "    </tr>\n",
       "    <tr>\n",
       "      <th>2</th>\n",
       "      <td>117</td>\n",
       "      <td>AJ3</td>\n",
       "      <td>Y</td>\n",
       "      <td>Exit A</td>\n",
       "      <td>A 出口</td>\n",
       "      <td>NaN</td>\n",
       "    </tr>\n",
       "    <tr>\n",
       "      <th>3</th>\n",
       "      <td>117</td>\n",
       "      <td>AJ4</td>\n",
       "      <td>N</td>\n",
       "      <td>NaN</td>\n",
       "      <td>NaN</td>\n",
       "      <td>NaN</td>\n",
       "    </tr>\n",
       "    <tr>\n",
       "      <th>4</th>\n",
       "      <td>117</td>\n",
       "      <td>AJ5</td>\n",
       "      <td>N</td>\n",
       "      <td>NaN</td>\n",
       "      <td>NaN</td>\n",
       "      <td>NaN</td>\n",
       "    </tr>\n",
       "  </tbody>\n",
       "</table>\n",
       "</div>"
      ],
      "text/plain": [
       "   Station_No  Key Value AJTextEn AJTextZh  Exit_Coordinate_X_Y\n",
       "0         117  AJ1     N      NaN      NaN                  NaN\n",
       "1         117  AJ2     Y  Exit B2    B2 出口                  NaN\n",
       "2         117  AJ3     Y   Exit A     A 出口                  NaN\n",
       "3         117  AJ4     N      NaN      NaN                  NaN\n",
       "4         117  AJ5     N      NaN      NaN                  NaN"
      ]
     },
     "execution_count": 15,
     "metadata": {},
     "output_type": "execute_result"
    }
   ],
   "source": [
    "barrier_free_facility.head()"
   ]
  },
  {
   "cell_type": "code",
   "execution_count": 20,
   "id": "384928af",
   "metadata": {},
   "outputs": [],
   "source": [
    "barrier_free_facility = barrier_free_facility.rename(columns={'Key': 'barrier_free_facility_id',\n",
    "                                                              'Value' : 'is_available',\n",
    "                                                              'AJTextEn' : 'exit_location_en',\n",
    "                                                              'AJTextZh' : 'exit_location_ch'})"
   ]
  },
  {
   "cell_type": "code",
   "execution_count": 21,
   "id": "7cd10314",
   "metadata": {},
   "outputs": [
    {
     "name": "stdout",
     "output_type": "stream",
     "text": [
      "<class 'pandas.core.frame.DataFrame'>\n",
      "RangeIndex: 3564 entries, 0 to 3563\n",
      "Data columns (total 6 columns):\n",
      " #   Column                    Non-Null Count  Dtype  \n",
      "---  ------                    --------------  -----  \n",
      " 0   Station_No                3564 non-null   int64  \n",
      " 1   barrier_free_facility_id  3564 non-null   object \n",
      " 2   is_available              3564 non-null   object \n",
      " 3   exit_location_en          165 non-null    object \n",
      " 4   exit_location_ch          165 non-null    object \n",
      " 5   Exit_Coordinate_X_Y       0 non-null      float64\n",
      "dtypes: float64(1), int64(1), object(4)\n",
      "memory usage: 167.2+ KB\n"
     ]
    }
   ],
   "source": [
    "barrier_free_facility.info()"
   ]
  },
  {
   "cell_type": "code",
   "execution_count": 23,
   "id": "dfc4ea6c",
   "metadata": {},
   "outputs": [],
   "source": [
    "barrier_free_facility.drop(columns=['Exit_Coordinate_X_Y'], inplace = True)"
   ]
  },
  {
   "cell_type": "code",
   "execution_count": null,
   "id": "3e6a6691",
   "metadata": {},
   "outputs": [
    {
     "data": {
      "application/vnd.microsoft.datawrangler.viewer.v0+json": {
       "columns": [
        {
         "name": "index",
         "rawType": "int64",
         "type": "integer"
        },
        {
         "name": "Station_No",
         "rawType": "int64",
         "type": "integer"
        },
        {
         "name": "barrier_free_facility_id",
         "rawType": "object",
         "type": "string"
        },
        {
         "name": "is_available",
         "rawType": "object",
         "type": "string"
        },
        {
         "name": "exit_location_en",
         "rawType": "object",
         "type": "unknown"
        },
        {
         "name": "exit_location_ch",
         "rawType": "object",
         "type": "unknown"
        }
       ],
       "conversionMethod": "pd.DataFrame",
       "ref": "1d61c849-4c96-4447-b8fe-6200fd11aae0",
       "rows": [
        [
         "7",
         "117",
         "AJ8",
         "Y",
         null,
         null
        ],
        [
         "9",
         "117",
         "HIn1",
         "Y",
         null,
         null
        ],
        [
         "10",
         "117",
         "HJ1",
         "Y",
         null,
         null
        ],
        [
         "11",
         "117",
         "HJ2",
         "Y",
         null,
         null
        ],
        [
         "13",
         "117",
         "HJ4",
         "Y",
         null,
         null
        ],
        [
         "16",
         "117",
         "HJ7",
         "Y",
         null,
         null
        ],
        [
         "18",
         "117",
         "MJ1",
         "Y",
         null,
         null
        ],
        [
         "19",
         "117",
         "MJ2",
         "Y",
         null,
         null
        ],
        [
         "20",
         "117",
         "MJ3",
         "Y",
         null,
         null
        ],
        [
         "22",
         "117",
         "MJ5",
         "Y",
         null,
         null
        ],
        [
         "26",
         "117",
         "VIn1",
         "Y",
         null,
         null
        ],
        [
         "27",
         "117",
         "VIn2",
         "Y",
         null,
         null
        ],
        [
         "28",
         "117",
         "VJ1",
         "Y",
         null,
         null
        ],
        [
         "29",
         "117",
         "VJ2",
         "Y",
         null,
         null
        ],
        [
         "31",
         "117",
         "VJ4",
         "Y",
         null,
         null
        ],
        [
         "32",
         "117",
         "VJ5",
         "Y",
         null,
         null
        ],
        [
         "33",
         "117",
         "VJ6",
         "Y",
         null,
         null
        ],
        [
         "34",
         "117",
         "VJ7",
         "Y",
         null,
         null
        ],
        [
         "35",
         "117",
         "VJ8",
         "Y",
         null,
         null
        ],
        [
         "43",
         "37",
         "AJ8",
         "Y",
         null,
         null
        ],
        [
         "45",
         "37",
         "HIn1",
         "Y",
         null,
         null
        ],
        [
         "46",
         "37",
         "HJ1",
         "Y",
         null,
         null
        ],
        [
         "47",
         "37",
         "HJ2",
         "Y",
         null,
         null
        ],
        [
         "48",
         "37",
         "HJ3",
         "Y",
         null,
         null
        ],
        [
         "50",
         "37",
         "HJ5",
         "Y",
         null,
         null
        ],
        [
         "54",
         "37",
         "MJ1",
         "Y",
         null,
         null
        ],
        [
         "55",
         "37",
         "MJ2",
         "Y",
         null,
         null
        ],
        [
         "56",
         "37",
         "MJ3",
         "Y",
         null,
         null
        ],
        [
         "59",
         "37",
         "MJ6",
         "Y",
         null,
         null
        ],
        [
         "62",
         "37",
         "VIn1",
         "Y",
         null,
         null
        ],
        [
         "63",
         "37",
         "VIn2",
         "Y",
         null,
         null
        ],
        [
         "64",
         "37",
         "VJ1",
         "Y",
         null,
         null
        ],
        [
         "65",
         "37",
         "VJ2",
         "Y",
         null,
         null
        ],
        [
         "67",
         "37",
         "VJ4",
         "Y",
         null,
         null
        ],
        [
         "68",
         "37",
         "VJ5",
         "Y",
         null,
         null
        ],
        [
         "69",
         "37",
         "VJ6",
         "Y",
         null,
         null
        ],
        [
         "70",
         "37",
         "VJ7",
         "Y",
         null,
         null
        ],
        [
         "71",
         "37",
         "VJ8",
         "Y",
         null,
         null
        ],
        [
         "79",
         "114",
         "AJ8",
         "Y",
         null,
         null
        ],
        [
         "81",
         "114",
         "HIn1",
         "Y",
         null,
         null
        ],
        [
         "82",
         "114",
         "HJ1",
         "Y",
         null,
         null
        ],
        [
         "83",
         "114",
         "HJ2",
         "Y",
         null,
         null
        ],
        [
         "85",
         "114",
         "HJ4",
         "Y",
         null,
         null
        ],
        [
         "88",
         "114",
         "HJ7",
         "Y",
         null,
         null
        ],
        [
         "90",
         "114",
         "MJ1",
         "Y",
         null,
         null
        ],
        [
         "91",
         "114",
         "MJ2",
         "Y",
         null,
         null
        ],
        [
         "92",
         "114",
         "MJ3",
         "Y",
         null,
         null
        ],
        [
         "94",
         "114",
         "MJ5",
         "Y",
         null,
         null
        ],
        [
         "98",
         "114",
         "VIn1",
         "Y",
         null,
         null
        ],
        [
         "99",
         "114",
         "VIn2",
         "Y",
         null,
         null
        ]
       ],
       "shape": {
        "columns": 5,
        "rows": 1882
       }
      },
      "text/html": [
       "<div>\n",
       "<style scoped>\n",
       "    .dataframe tbody tr th:only-of-type {\n",
       "        vertical-align: middle;\n",
       "    }\n",
       "\n",
       "    .dataframe tbody tr th {\n",
       "        vertical-align: top;\n",
       "    }\n",
       "\n",
       "    .dataframe thead th {\n",
       "        text-align: right;\n",
       "    }\n",
       "</style>\n",
       "<table border=\"1\" class=\"dataframe\">\n",
       "  <thead>\n",
       "    <tr style=\"text-align: right;\">\n",
       "      <th></th>\n",
       "      <th>Station_No</th>\n",
       "      <th>barrier_free_facility_id</th>\n",
       "      <th>is_available</th>\n",
       "      <th>exit_location_en</th>\n",
       "      <th>exit_location_ch</th>\n",
       "    </tr>\n",
       "  </thead>\n",
       "  <tbody>\n",
       "    <tr>\n",
       "      <th>7</th>\n",
       "      <td>117</td>\n",
       "      <td>AJ8</td>\n",
       "      <td>Y</td>\n",
       "      <td>NaN</td>\n",
       "      <td>NaN</td>\n",
       "    </tr>\n",
       "    <tr>\n",
       "      <th>9</th>\n",
       "      <td>117</td>\n",
       "      <td>HIn1</td>\n",
       "      <td>Y</td>\n",
       "      <td>NaN</td>\n",
       "      <td>NaN</td>\n",
       "    </tr>\n",
       "    <tr>\n",
       "      <th>10</th>\n",
       "      <td>117</td>\n",
       "      <td>HJ1</td>\n",
       "      <td>Y</td>\n",
       "      <td>NaN</td>\n",
       "      <td>NaN</td>\n",
       "    </tr>\n",
       "    <tr>\n",
       "      <th>11</th>\n",
       "      <td>117</td>\n",
       "      <td>HJ2</td>\n",
       "      <td>Y</td>\n",
       "      <td>NaN</td>\n",
       "      <td>NaN</td>\n",
       "    </tr>\n",
       "    <tr>\n",
       "      <th>13</th>\n",
       "      <td>117</td>\n",
       "      <td>HJ4</td>\n",
       "      <td>Y</td>\n",
       "      <td>NaN</td>\n",
       "      <td>NaN</td>\n",
       "    </tr>\n",
       "    <tr>\n",
       "      <th>...</th>\n",
       "      <td>...</td>\n",
       "      <td>...</td>\n",
       "      <td>...</td>\n",
       "      <td>...</td>\n",
       "      <td>...</td>\n",
       "    </tr>\n",
       "    <tr>\n",
       "      <th>3559</th>\n",
       "      <td>94</td>\n",
       "      <td>VJ4</td>\n",
       "      <td>Y</td>\n",
       "      <td>NaN</td>\n",
       "      <td>NaN</td>\n",
       "    </tr>\n",
       "    <tr>\n",
       "      <th>3560</th>\n",
       "      <td>94</td>\n",
       "      <td>VJ5</td>\n",
       "      <td>Y</td>\n",
       "      <td>NaN</td>\n",
       "      <td>NaN</td>\n",
       "    </tr>\n",
       "    <tr>\n",
       "      <th>3561</th>\n",
       "      <td>94</td>\n",
       "      <td>VJ6</td>\n",
       "      <td>Y</td>\n",
       "      <td>NaN</td>\n",
       "      <td>NaN</td>\n",
       "    </tr>\n",
       "    <tr>\n",
       "      <th>3562</th>\n",
       "      <td>94</td>\n",
       "      <td>VJ7</td>\n",
       "      <td>Y</td>\n",
       "      <td>NaN</td>\n",
       "      <td>NaN</td>\n",
       "    </tr>\n",
       "    <tr>\n",
       "      <th>3563</th>\n",
       "      <td>94</td>\n",
       "      <td>VJ8</td>\n",
       "      <td>Y</td>\n",
       "      <td>NaN</td>\n",
       "      <td>NaN</td>\n",
       "    </tr>\n",
       "  </tbody>\n",
       "</table>\n",
       "<p>1882 rows × 5 columns</p>\n",
       "</div>"
      ],
      "text/plain": [
       "      Station_No barrier_free_facility_id is_available exit_location_en  \\\n",
       "7            117                      AJ8            Y              NaN   \n",
       "9            117                     HIn1            Y              NaN   \n",
       "10           117                      HJ1            Y              NaN   \n",
       "11           117                      HJ2            Y              NaN   \n",
       "13           117                      HJ4            Y              NaN   \n",
       "...          ...                      ...          ...              ...   \n",
       "3559          94                      VJ4            Y              NaN   \n",
       "3560          94                      VJ5            Y              NaN   \n",
       "3561          94                      VJ6            Y              NaN   \n",
       "3562          94                      VJ7            Y              NaN   \n",
       "3563          94                      VJ8            Y              NaN   \n",
       "\n",
       "     exit_location_ch  \n",
       "7                 NaN  \n",
       "9                 NaN  \n",
       "10                NaN  \n",
       "11                NaN  \n",
       "13                NaN  \n",
       "...               ...  \n",
       "3559              NaN  \n",
       "3560              NaN  \n",
       "3561              NaN  \n",
       "3562              NaN  \n",
       "3563              NaN  \n",
       "\n",
       "[1882 rows x 5 columns]"
      ]
     },
     "execution_count": 32,
     "metadata": {},
     "output_type": "execute_result"
    }
   ],
   "source": [
    "# Check for missing values in locations of facilities in case facitilities are available at the station\n",
    "\n",
    "# 90% of the data is missing for the exit location --> drop the column\n",
    "barrier_free_facility[(barrier_free_facility['is_available'] == 'Y') & (barrier_free_facility['exit_location_en'].isnull())]"
   ]
  },
  {
   "cell_type": "code",
   "execution_count": 33,
   "id": "f042e8a3",
   "metadata": {},
   "outputs": [],
   "source": [
    "barrier_free_facility.drop(columns=['exit_location_en', 'exit_location_ch'], inplace = True)"
   ]
  },
  {
   "cell_type": "markdown",
   "id": "fcdec014",
   "metadata": {},
   "source": [
    "### Barrier free facility category"
   ]
  },
  {
   "cell_type": "code",
   "execution_count": 34,
   "id": "7fdff77a",
   "metadata": {},
   "outputs": [
    {
     "data": {
      "application/vnd.microsoft.datawrangler.viewer.v0+json": {
       "columns": [
        {
         "name": "index",
         "rawType": "int64",
         "type": "integer"
        },
        {
         "name": "Item_Code",
         "rawType": "object",
         "type": "string"
        },
        {
         "name": "Category_Id",
         "rawType": "object",
         "type": "string"
        },
        {
         "name": "Category_En",
         "rawType": "object",
         "type": "string"
        },
        {
         "name": "Category_Zh",
         "rawType": "object",
         "type": "string"
        },
        {
         "name": "Facility_En",
         "rawType": "object",
         "type": "string"
        },
        {
         "name": "Facility_Zh",
         "rawType": "object",
         "type": "string"
        },
        {
         "name": "Sorting_Order",
         "rawType": "int64",
         "type": "integer"
        }
       ],
       "conversionMethod": "pd.DataFrame",
       "ref": "b55965bb-28da-4970-a6f7-71de1789c122",
       "rows": [
        [
         "0",
         "VJ1",
         "VJ",
         "Facilities for Visually Impaired",
         "視覺受損人士設施",
         "Tactile Guide Paths",
         "失明人士引導徑",
         "1"
        ],
        [
         "1",
         "VJ2",
         "VJ",
         "Facilities for Visually Impaired",
         "視覺受損人士設施",
         "Escalator Audible Warning Signals",
         "扶手電梯發聲提示器",
         "2"
        ],
        [
         "2",
         "VJ3",
         "VJ",
         "Facilities for Visually Impaired",
         "視覺受損人士設施",
         "Platform Tactile Yellow Lines",
         "月台黃色凸條",
         "3"
        ],
        [
         "3",
         "VJ4",
         "VJ",
         "Facilities for Visually Impaired",
         "視覺受損人士設施",
         "Audible Device",
         "發聲器",
         "4"
        ],
        [
         "4",
         "VJ5",
         "VJ",
         "Facilities for Visually Impaired",
         "視覺受損人士設施",
         "Braille",
         "點字板",
         "5"
        ],
        [
         "5",
         "VJ6",
         "VJ",
         "Facilities for Visually Impaired",
         "視覺受損人士設施",
         "Colour Contrast Grab Poles",
         "色彩分明的扶手桿",
         "6"
        ],
        [
         "6",
         "VJ7",
         "VJ",
         "Facilities for Visually Impaired",
         "視覺受損人士設施",
         "Buzzer",
         "蜂鳴聲",
         "7"
        ],
        [
         "7",
         "VJ8",
         "VJ",
         "Facilities for Visually Impaired",
         "視覺受損人士設施",
         "Colour Contrast Inter-Car Barriers",
         "色彩鮮明的欄障",
         "8"
        ],
        [
         "8",
         "VIn1",
         "VJ",
         "Facilities for Visually Impaired",
         "視覺受損人士設施",
         "Tactile Station Layout Maps",
         "觸覺車站佈置圖",
         "9"
        ],
        [
         "9",
         "VIn2",
         "VJ",
         "Facilities for Visually Impaired",
         "視覺受損人士設施",
         "Modification of Obstructions",
         "改裝障礙物",
         "10"
        ],
        [
         "10",
         "MJ1",
         "MJ",
         "Facilities for Mobility Impaired",
         "行動不便人士設施",
         "Wide Gates",
         "闊閘機",
         "3"
        ],
        [
         "11",
         "MJ2",
         "MJ",
         "Facilities for Mobility Impaired",
         "行動不便人士設施",
         "Portable or Movable Ramps",
         "手攜式或活動摺板",
         "4"
        ],
        [
         "12",
         "MJ3",
         "MJ",
         "Facilities for Mobility Impaired",
         "行動不便人士設施",
         "Multi-Purpose Areas",
         "多用途空間",
         "5"
        ],
        [
         "13",
         "MJ4",
         "MJ",
         "Facilities for Mobility Impaired",
         "行動不便人士設施",
         "Accessible Toilets (Unpaid Area)",
         "無障礙洗手間 (閘外區域)",
         "6"
        ],
        [
         "14",
         "MJ5",
         "MJ",
         "Facilities for Mobility Impaired",
         "行動不便人士設施",
         "Accessible Toilets (Paid Area)",
         "無障礙洗手間 (已付車費區域)",
         "7"
        ],
        [
         "15",
         "MJ6",
         "MJ",
         "Facilities for Mobility Impaired",
         "行動不便人士設施",
         "Accessible Toilets (Staff Area)",
         "無障礙洗手間 (職員專用區域)",
         "8"
        ],
        [
         "16",
         "MJ8",
         "MJ",
         "Facilities for Mobility Impaired",
         "行動不便人士設施",
         "Socket for Powered Wheelchair",
         "電動輪椅專用充電插座",
         "8"
        ],
        [
         "17",
         "MJ7",
         "MJ",
         "Facilities for Mobility Impaired",
         "行動不便人士設施",
         "Accessible-car service (Contact Station Staff to arrange on arrival)",
         "無障礙接駁服務 (到站後請聯絡車站職員安排)",
         "9"
        ],
        [
         "18",
         "HJ1",
         "HJ",
         "Facilities for Hearing Impaired",
         "聽覺受損人士設施",
         "Induction Loops",
         "感應環迴系統",
         "1"
        ],
        [
         "19",
         "HJ2",
         "HJ",
         "Facilities for Hearing Impaired",
         "聽覺受損人士設施",
         "Passenger Info Display Systems",
         "乘客資訊顯示系統",
         "2"
        ],
        [
         "20",
         "HJ3",
         "HJ",
         "Facilities for Hearing Impaired",
         "聽覺受損人士設施",
         "Flashing System Maps",
         "閃燈路&#32171;圖",
         "3"
        ],
        [
         "21",
         "HJ4",
         "HJ",
         "Facilities for Hearing Impaired",
         "聽覺受損人士設施",
         "Active Line Diagrams",
         "動感行車路&#32171;圖",
         "4"
        ],
        [
         "22",
         "HJ5",
         "HJ",
         "Facilities for Hearing Impaired",
         "聽覺受損人士設施",
         "On Train Info - Infopanels",
         "列車上的資訊",
         "5"
        ],
        [
         "23",
         "HJ6",
         "HJ",
         "Facilities for Hearing Impaired",
         "聽覺受損人士設施",
         "On Train Info - LCD Infopanels",
         "液晶顯示資趣台",
         "6"
        ],
        [
         "24",
         "HJ7",
         "HJ",
         "Facilities for Hearing Impaired",
         "聽覺受損人士設施",
         "On Train Info - MTR In-train TV",
         "港鐵車廂電視屏幕",
         "7"
        ],
        [
         "25",
         "HIn1",
         "HJ",
         "Facilities for Hearing Impaired",
         "聽覺受損人士設施",
         "Information Cards",
         "諮詢卡",
         "8"
        ],
        [
         "26",
         "HJ8",
         "HJ",
         "Facilities for Hearing Impaired",
         "聽覺受損人士設施",
         "On Train Info - OPIS (For LR)",
         "列車上的資訊",
         "9"
        ],
        [
         "27",
         "AJ1",
         "AJ",
         "System Accessibility",
         "出入口設施",
         "Same Level",
         "同一層",
         "1"
        ],
        [
         "28",
         "AJ2",
         "AJ",
         "System Accessibility",
         "出入口設施",
         "Ramp",
         "斜道",
         "2"
        ],
        [
         "29",
         "AJ3",
         "AJ",
         "System Accessibility",
         "出入口設施",
         "Lift - Unpaid Area",
         "升降機 - 閘外區域",
         "3"
        ],
        [
         "30",
         "AJ4",
         "AJ",
         "System Accessibility",
         "出入口設施",
         "Lift - Unpaid Area (Non MTR managed facility)",
         "升降機 - 閘外區域 (非港鐵管理的設施)",
         "4"
        ],
        [
         "31",
         "AJ5",
         "AJ",
         "System Accessibility",
         "出入口設施",
         "Stair Lift",
         "輪椅升降台",
         "5"
        ],
        [
         "32",
         "AJ6",
         "AJ",
         "System Accessibility",
         "出入口設施",
         "Wheelchair Aid",
         "輪椅輔助車",
         "6"
        ],
        [
         "33",
         "AJ7",
         "AJ",
         "System Accessibility",
         "出入口設施",
         "Stair Lift (Non MTR managed facility)",
         "輪椅升降台 (非港鐵管理的設施)",
         "7"
        ],
        [
         "34",
         "AJ8",
         "AJ",
         "System Accessibility",
         "出入口設施",
         "Lift - Paid Area",
         "升降機 - 已付車費區域",
         "8"
        ],
        [
         "35",
         "AJ9",
         "AJ",
         "System Accessibility",
         "出入口設施",
         "Vertical Lifting Platform",
         "垂直升降台",
         "9"
        ]
       ],
       "shape": {
        "columns": 7,
        "rows": 36
       }
      },
      "text/html": [
       "<div>\n",
       "<style scoped>\n",
       "    .dataframe tbody tr th:only-of-type {\n",
       "        vertical-align: middle;\n",
       "    }\n",
       "\n",
       "    .dataframe tbody tr th {\n",
       "        vertical-align: top;\n",
       "    }\n",
       "\n",
       "    .dataframe thead th {\n",
       "        text-align: right;\n",
       "    }\n",
       "</style>\n",
       "<table border=\"1\" class=\"dataframe\">\n",
       "  <thead>\n",
       "    <tr style=\"text-align: right;\">\n",
       "      <th></th>\n",
       "      <th>Item_Code</th>\n",
       "      <th>Category_Id</th>\n",
       "      <th>Category_En</th>\n",
       "      <th>Category_Zh</th>\n",
       "      <th>Facility_En</th>\n",
       "      <th>Facility_Zh</th>\n",
       "      <th>Sorting_Order</th>\n",
       "    </tr>\n",
       "  </thead>\n",
       "  <tbody>\n",
       "    <tr>\n",
       "      <th>0</th>\n",
       "      <td>VJ1</td>\n",
       "      <td>VJ</td>\n",
       "      <td>Facilities for Visually Impaired</td>\n",
       "      <td>視覺受損人士設施</td>\n",
       "      <td>Tactile Guide Paths</td>\n",
       "      <td>失明人士引導徑</td>\n",
       "      <td>1</td>\n",
       "    </tr>\n",
       "    <tr>\n",
       "      <th>1</th>\n",
       "      <td>VJ2</td>\n",
       "      <td>VJ</td>\n",
       "      <td>Facilities for Visually Impaired</td>\n",
       "      <td>視覺受損人士設施</td>\n",
       "      <td>Escalator Audible Warning Signals</td>\n",
       "      <td>扶手電梯發聲提示器</td>\n",
       "      <td>2</td>\n",
       "    </tr>\n",
       "    <tr>\n",
       "      <th>2</th>\n",
       "      <td>VJ3</td>\n",
       "      <td>VJ</td>\n",
       "      <td>Facilities for Visually Impaired</td>\n",
       "      <td>視覺受損人士設施</td>\n",
       "      <td>Platform Tactile Yellow Lines</td>\n",
       "      <td>月台黃色凸條</td>\n",
       "      <td>3</td>\n",
       "    </tr>\n",
       "    <tr>\n",
       "      <th>3</th>\n",
       "      <td>VJ4</td>\n",
       "      <td>VJ</td>\n",
       "      <td>Facilities for Visually Impaired</td>\n",
       "      <td>視覺受損人士設施</td>\n",
       "      <td>Audible Device</td>\n",
       "      <td>發聲器</td>\n",
       "      <td>4</td>\n",
       "    </tr>\n",
       "    <tr>\n",
       "      <th>4</th>\n",
       "      <td>VJ5</td>\n",
       "      <td>VJ</td>\n",
       "      <td>Facilities for Visually Impaired</td>\n",
       "      <td>視覺受損人士設施</td>\n",
       "      <td>Braille</td>\n",
       "      <td>點字板</td>\n",
       "      <td>5</td>\n",
       "    </tr>\n",
       "    <tr>\n",
       "      <th>5</th>\n",
       "      <td>VJ6</td>\n",
       "      <td>VJ</td>\n",
       "      <td>Facilities for Visually Impaired</td>\n",
       "      <td>視覺受損人士設施</td>\n",
       "      <td>Colour Contrast Grab Poles</td>\n",
       "      <td>色彩分明的扶手桿</td>\n",
       "      <td>6</td>\n",
       "    </tr>\n",
       "    <tr>\n",
       "      <th>6</th>\n",
       "      <td>VJ7</td>\n",
       "      <td>VJ</td>\n",
       "      <td>Facilities for Visually Impaired</td>\n",
       "      <td>視覺受損人士設施</td>\n",
       "      <td>Buzzer</td>\n",
       "      <td>蜂鳴聲</td>\n",
       "      <td>7</td>\n",
       "    </tr>\n",
       "    <tr>\n",
       "      <th>7</th>\n",
       "      <td>VJ8</td>\n",
       "      <td>VJ</td>\n",
       "      <td>Facilities for Visually Impaired</td>\n",
       "      <td>視覺受損人士設施</td>\n",
       "      <td>Colour Contrast Inter-Car Barriers</td>\n",
       "      <td>色彩鮮明的欄障</td>\n",
       "      <td>8</td>\n",
       "    </tr>\n",
       "    <tr>\n",
       "      <th>8</th>\n",
       "      <td>VIn1</td>\n",
       "      <td>VJ</td>\n",
       "      <td>Facilities for Visually Impaired</td>\n",
       "      <td>視覺受損人士設施</td>\n",
       "      <td>Tactile Station Layout Maps</td>\n",
       "      <td>觸覺車站佈置圖</td>\n",
       "      <td>9</td>\n",
       "    </tr>\n",
       "    <tr>\n",
       "      <th>9</th>\n",
       "      <td>VIn2</td>\n",
       "      <td>VJ</td>\n",
       "      <td>Facilities for Visually Impaired</td>\n",
       "      <td>視覺受損人士設施</td>\n",
       "      <td>Modification of Obstructions</td>\n",
       "      <td>改裝障礙物</td>\n",
       "      <td>10</td>\n",
       "    </tr>\n",
       "    <tr>\n",
       "      <th>10</th>\n",
       "      <td>MJ1</td>\n",
       "      <td>MJ</td>\n",
       "      <td>Facilities for Mobility Impaired</td>\n",
       "      <td>行動不便人士設施</td>\n",
       "      <td>Wide Gates</td>\n",
       "      <td>闊閘機</td>\n",
       "      <td>3</td>\n",
       "    </tr>\n",
       "    <tr>\n",
       "      <th>11</th>\n",
       "      <td>MJ2</td>\n",
       "      <td>MJ</td>\n",
       "      <td>Facilities for Mobility Impaired</td>\n",
       "      <td>行動不便人士設施</td>\n",
       "      <td>Portable or Movable Ramps</td>\n",
       "      <td>手攜式或活動摺板</td>\n",
       "      <td>4</td>\n",
       "    </tr>\n",
       "    <tr>\n",
       "      <th>12</th>\n",
       "      <td>MJ3</td>\n",
       "      <td>MJ</td>\n",
       "      <td>Facilities for Mobility Impaired</td>\n",
       "      <td>行動不便人士設施</td>\n",
       "      <td>Multi-Purpose Areas</td>\n",
       "      <td>多用途空間</td>\n",
       "      <td>5</td>\n",
       "    </tr>\n",
       "    <tr>\n",
       "      <th>13</th>\n",
       "      <td>MJ4</td>\n",
       "      <td>MJ</td>\n",
       "      <td>Facilities for Mobility Impaired</td>\n",
       "      <td>行動不便人士設施</td>\n",
       "      <td>Accessible Toilets (Unpaid Area)</td>\n",
       "      <td>無障礙洗手間 (閘外區域)</td>\n",
       "      <td>6</td>\n",
       "    </tr>\n",
       "    <tr>\n",
       "      <th>14</th>\n",
       "      <td>MJ5</td>\n",
       "      <td>MJ</td>\n",
       "      <td>Facilities for Mobility Impaired</td>\n",
       "      <td>行動不便人士設施</td>\n",
       "      <td>Accessible Toilets (Paid Area)</td>\n",
       "      <td>無障礙洗手間 (已付車費區域)</td>\n",
       "      <td>7</td>\n",
       "    </tr>\n",
       "    <tr>\n",
       "      <th>15</th>\n",
       "      <td>MJ6</td>\n",
       "      <td>MJ</td>\n",
       "      <td>Facilities for Mobility Impaired</td>\n",
       "      <td>行動不便人士設施</td>\n",
       "      <td>Accessible Toilets (Staff Area)</td>\n",
       "      <td>無障礙洗手間 (職員專用區域)</td>\n",
       "      <td>8</td>\n",
       "    </tr>\n",
       "    <tr>\n",
       "      <th>16</th>\n",
       "      <td>MJ8</td>\n",
       "      <td>MJ</td>\n",
       "      <td>Facilities for Mobility Impaired</td>\n",
       "      <td>行動不便人士設施</td>\n",
       "      <td>Socket for Powered Wheelchair</td>\n",
       "      <td>電動輪椅專用充電插座</td>\n",
       "      <td>8</td>\n",
       "    </tr>\n",
       "    <tr>\n",
       "      <th>17</th>\n",
       "      <td>MJ7</td>\n",
       "      <td>MJ</td>\n",
       "      <td>Facilities for Mobility Impaired</td>\n",
       "      <td>行動不便人士設施</td>\n",
       "      <td>Accessible-car service (Contact Station Staff ...</td>\n",
       "      <td>無障礙接駁服務 (到站後請聯絡車站職員安排)</td>\n",
       "      <td>9</td>\n",
       "    </tr>\n",
       "    <tr>\n",
       "      <th>18</th>\n",
       "      <td>HJ1</td>\n",
       "      <td>HJ</td>\n",
       "      <td>Facilities for Hearing Impaired</td>\n",
       "      <td>聽覺受損人士設施</td>\n",
       "      <td>Induction Loops</td>\n",
       "      <td>感應環迴系統</td>\n",
       "      <td>1</td>\n",
       "    </tr>\n",
       "    <tr>\n",
       "      <th>19</th>\n",
       "      <td>HJ2</td>\n",
       "      <td>HJ</td>\n",
       "      <td>Facilities for Hearing Impaired</td>\n",
       "      <td>聽覺受損人士設施</td>\n",
       "      <td>Passenger Info Display Systems</td>\n",
       "      <td>乘客資訊顯示系統</td>\n",
       "      <td>2</td>\n",
       "    </tr>\n",
       "    <tr>\n",
       "      <th>20</th>\n",
       "      <td>HJ3</td>\n",
       "      <td>HJ</td>\n",
       "      <td>Facilities for Hearing Impaired</td>\n",
       "      <td>聽覺受損人士設施</td>\n",
       "      <td>Flashing System Maps</td>\n",
       "      <td>閃燈路&amp;#32171;圖</td>\n",
       "      <td>3</td>\n",
       "    </tr>\n",
       "    <tr>\n",
       "      <th>21</th>\n",
       "      <td>HJ4</td>\n",
       "      <td>HJ</td>\n",
       "      <td>Facilities for Hearing Impaired</td>\n",
       "      <td>聽覺受損人士設施</td>\n",
       "      <td>Active Line Diagrams</td>\n",
       "      <td>動感行車路&amp;#32171;圖</td>\n",
       "      <td>4</td>\n",
       "    </tr>\n",
       "    <tr>\n",
       "      <th>22</th>\n",
       "      <td>HJ5</td>\n",
       "      <td>HJ</td>\n",
       "      <td>Facilities for Hearing Impaired</td>\n",
       "      <td>聽覺受損人士設施</td>\n",
       "      <td>On Train Info - Infopanels</td>\n",
       "      <td>列車上的資訊</td>\n",
       "      <td>5</td>\n",
       "    </tr>\n",
       "    <tr>\n",
       "      <th>23</th>\n",
       "      <td>HJ6</td>\n",
       "      <td>HJ</td>\n",
       "      <td>Facilities for Hearing Impaired</td>\n",
       "      <td>聽覺受損人士設施</td>\n",
       "      <td>On Train Info - LCD Infopanels</td>\n",
       "      <td>液晶顯示資趣台</td>\n",
       "      <td>6</td>\n",
       "    </tr>\n",
       "    <tr>\n",
       "      <th>24</th>\n",
       "      <td>HJ7</td>\n",
       "      <td>HJ</td>\n",
       "      <td>Facilities for Hearing Impaired</td>\n",
       "      <td>聽覺受損人士設施</td>\n",
       "      <td>On Train Info - MTR In-train TV</td>\n",
       "      <td>港鐵車廂電視屏幕</td>\n",
       "      <td>7</td>\n",
       "    </tr>\n",
       "    <tr>\n",
       "      <th>25</th>\n",
       "      <td>HIn1</td>\n",
       "      <td>HJ</td>\n",
       "      <td>Facilities for Hearing Impaired</td>\n",
       "      <td>聽覺受損人士設施</td>\n",
       "      <td>Information Cards</td>\n",
       "      <td>諮詢卡</td>\n",
       "      <td>8</td>\n",
       "    </tr>\n",
       "    <tr>\n",
       "      <th>26</th>\n",
       "      <td>HJ8</td>\n",
       "      <td>HJ</td>\n",
       "      <td>Facilities for Hearing Impaired</td>\n",
       "      <td>聽覺受損人士設施</td>\n",
       "      <td>On Train Info - OPIS (For LR)</td>\n",
       "      <td>列車上的資訊</td>\n",
       "      <td>9</td>\n",
       "    </tr>\n",
       "    <tr>\n",
       "      <th>27</th>\n",
       "      <td>AJ1</td>\n",
       "      <td>AJ</td>\n",
       "      <td>System Accessibility</td>\n",
       "      <td>出入口設施</td>\n",
       "      <td>Same Level</td>\n",
       "      <td>同一層</td>\n",
       "      <td>1</td>\n",
       "    </tr>\n",
       "    <tr>\n",
       "      <th>28</th>\n",
       "      <td>AJ2</td>\n",
       "      <td>AJ</td>\n",
       "      <td>System Accessibility</td>\n",
       "      <td>出入口設施</td>\n",
       "      <td>Ramp</td>\n",
       "      <td>斜道</td>\n",
       "      <td>2</td>\n",
       "    </tr>\n",
       "    <tr>\n",
       "      <th>29</th>\n",
       "      <td>AJ3</td>\n",
       "      <td>AJ</td>\n",
       "      <td>System Accessibility</td>\n",
       "      <td>出入口設施</td>\n",
       "      <td>Lift - Unpaid Area</td>\n",
       "      <td>升降機 - 閘外區域</td>\n",
       "      <td>3</td>\n",
       "    </tr>\n",
       "    <tr>\n",
       "      <th>30</th>\n",
       "      <td>AJ4</td>\n",
       "      <td>AJ</td>\n",
       "      <td>System Accessibility</td>\n",
       "      <td>出入口設施</td>\n",
       "      <td>Lift - Unpaid Area (Non MTR managed facility)</td>\n",
       "      <td>升降機 - 閘外區域 (非港鐵管理的設施)</td>\n",
       "      <td>4</td>\n",
       "    </tr>\n",
       "    <tr>\n",
       "      <th>31</th>\n",
       "      <td>AJ5</td>\n",
       "      <td>AJ</td>\n",
       "      <td>System Accessibility</td>\n",
       "      <td>出入口設施</td>\n",
       "      <td>Stair Lift</td>\n",
       "      <td>輪椅升降台</td>\n",
       "      <td>5</td>\n",
       "    </tr>\n",
       "    <tr>\n",
       "      <th>32</th>\n",
       "      <td>AJ6</td>\n",
       "      <td>AJ</td>\n",
       "      <td>System Accessibility</td>\n",
       "      <td>出入口設施</td>\n",
       "      <td>Wheelchair Aid</td>\n",
       "      <td>輪椅輔助車</td>\n",
       "      <td>6</td>\n",
       "    </tr>\n",
       "    <tr>\n",
       "      <th>33</th>\n",
       "      <td>AJ7</td>\n",
       "      <td>AJ</td>\n",
       "      <td>System Accessibility</td>\n",
       "      <td>出入口設施</td>\n",
       "      <td>Stair Lift (Non MTR managed facility)</td>\n",
       "      <td>輪椅升降台 (非港鐵管理的設施)</td>\n",
       "      <td>7</td>\n",
       "    </tr>\n",
       "    <tr>\n",
       "      <th>34</th>\n",
       "      <td>AJ8</td>\n",
       "      <td>AJ</td>\n",
       "      <td>System Accessibility</td>\n",
       "      <td>出入口設施</td>\n",
       "      <td>Lift - Paid Area</td>\n",
       "      <td>升降機 - 已付車費區域</td>\n",
       "      <td>8</td>\n",
       "    </tr>\n",
       "    <tr>\n",
       "      <th>35</th>\n",
       "      <td>AJ9</td>\n",
       "      <td>AJ</td>\n",
       "      <td>System Accessibility</td>\n",
       "      <td>出入口設施</td>\n",
       "      <td>Vertical Lifting Platform</td>\n",
       "      <td>垂直升降台</td>\n",
       "      <td>9</td>\n",
       "    </tr>\n",
       "  </tbody>\n",
       "</table>\n",
       "</div>"
      ],
      "text/plain": [
       "   Item_Code Category_Id                       Category_En Category_Zh  \\\n",
       "0        VJ1          VJ  Facilities for Visually Impaired    視覺受損人士設施   \n",
       "1        VJ2          VJ  Facilities for Visually Impaired    視覺受損人士設施   \n",
       "2        VJ3          VJ  Facilities for Visually Impaired    視覺受損人士設施   \n",
       "3        VJ4          VJ  Facilities for Visually Impaired    視覺受損人士設施   \n",
       "4        VJ5          VJ  Facilities for Visually Impaired    視覺受損人士設施   \n",
       "5        VJ6          VJ  Facilities for Visually Impaired    視覺受損人士設施   \n",
       "6        VJ7          VJ  Facilities for Visually Impaired    視覺受損人士設施   \n",
       "7        VJ8          VJ  Facilities for Visually Impaired    視覺受損人士設施   \n",
       "8       VIn1          VJ  Facilities for Visually Impaired    視覺受損人士設施   \n",
       "9       VIn2          VJ  Facilities for Visually Impaired    視覺受損人士設施   \n",
       "10       MJ1          MJ  Facilities for Mobility Impaired    行動不便人士設施   \n",
       "11       MJ2          MJ  Facilities for Mobility Impaired    行動不便人士設施   \n",
       "12       MJ3          MJ  Facilities for Mobility Impaired    行動不便人士設施   \n",
       "13       MJ4          MJ  Facilities for Mobility Impaired    行動不便人士設施   \n",
       "14       MJ5          MJ  Facilities for Mobility Impaired    行動不便人士設施   \n",
       "15       MJ6          MJ  Facilities for Mobility Impaired    行動不便人士設施   \n",
       "16       MJ8          MJ  Facilities for Mobility Impaired    行動不便人士設施   \n",
       "17       MJ7          MJ  Facilities for Mobility Impaired    行動不便人士設施   \n",
       "18       HJ1          HJ   Facilities for Hearing Impaired    聽覺受損人士設施   \n",
       "19       HJ2          HJ   Facilities for Hearing Impaired    聽覺受損人士設施   \n",
       "20       HJ3          HJ   Facilities for Hearing Impaired    聽覺受損人士設施   \n",
       "21       HJ4          HJ   Facilities for Hearing Impaired    聽覺受損人士設施   \n",
       "22       HJ5          HJ   Facilities for Hearing Impaired    聽覺受損人士設施   \n",
       "23       HJ6          HJ   Facilities for Hearing Impaired    聽覺受損人士設施   \n",
       "24       HJ7          HJ   Facilities for Hearing Impaired    聽覺受損人士設施   \n",
       "25      HIn1          HJ   Facilities for Hearing Impaired    聽覺受損人士設施   \n",
       "26       HJ8          HJ   Facilities for Hearing Impaired    聽覺受損人士設施   \n",
       "27       AJ1          AJ              System Accessibility       出入口設施   \n",
       "28       AJ2          AJ              System Accessibility       出入口設施   \n",
       "29       AJ3          AJ              System Accessibility       出入口設施   \n",
       "30       AJ4          AJ              System Accessibility       出入口設施   \n",
       "31       AJ5          AJ              System Accessibility       出入口設施   \n",
       "32       AJ6          AJ              System Accessibility       出入口設施   \n",
       "33       AJ7          AJ              System Accessibility       出入口設施   \n",
       "34       AJ8          AJ              System Accessibility       出入口設施   \n",
       "35       AJ9          AJ              System Accessibility       出入口設施   \n",
       "\n",
       "                                          Facility_En             Facility_Zh  \\\n",
       "0                                 Tactile Guide Paths                 失明人士引導徑   \n",
       "1                   Escalator Audible Warning Signals               扶手電梯發聲提示器   \n",
       "2                       Platform Tactile Yellow Lines                  月台黃色凸條   \n",
       "3                                      Audible Device                     發聲器   \n",
       "4                                             Braille                     點字板   \n",
       "5                          Colour Contrast Grab Poles                色彩分明的扶手桿   \n",
       "6                                              Buzzer                     蜂鳴聲   \n",
       "7                  Colour Contrast Inter-Car Barriers                 色彩鮮明的欄障   \n",
       "8                         Tactile Station Layout Maps                 觸覺車站佈置圖   \n",
       "9                        Modification of Obstructions                   改裝障礙物   \n",
       "10                                         Wide Gates                     闊閘機   \n",
       "11                          Portable or Movable Ramps                手攜式或活動摺板   \n",
       "12                                Multi-Purpose Areas                   多用途空間   \n",
       "13                   Accessible Toilets (Unpaid Area)           無障礙洗手間 (閘外區域)   \n",
       "14                     Accessible Toilets (Paid Area)         無障礙洗手間 (已付車費區域)   \n",
       "15                    Accessible Toilets (Staff Area)         無障礙洗手間 (職員專用區域)   \n",
       "16                      Socket for Powered Wheelchair              電動輪椅專用充電插座   \n",
       "17  Accessible-car service (Contact Station Staff ...  無障礙接駁服務 (到站後請聯絡車站職員安排)   \n",
       "18                                    Induction Loops                  感應環迴系統   \n",
       "19                     Passenger Info Display Systems                乘客資訊顯示系統   \n",
       "20                               Flashing System Maps            閃燈路&#32171;圖   \n",
       "21                               Active Line Diagrams          動感行車路&#32171;圖   \n",
       "22                         On Train Info - Infopanels                  列車上的資訊   \n",
       "23                     On Train Info - LCD Infopanels                 液晶顯示資趣台   \n",
       "24                    On Train Info - MTR In-train TV                港鐵車廂電視屏幕   \n",
       "25                                  Information Cards                     諮詢卡   \n",
       "26                      On Train Info - OPIS (For LR)                  列車上的資訊   \n",
       "27                                         Same Level                     同一層   \n",
       "28                                               Ramp                      斜道   \n",
       "29                                 Lift - Unpaid Area              升降機 - 閘外區域   \n",
       "30      Lift - Unpaid Area (Non MTR managed facility)   升降機 - 閘外區域 (非港鐵管理的設施)   \n",
       "31                                         Stair Lift                   輪椅升降台   \n",
       "32                                     Wheelchair Aid                   輪椅輔助車   \n",
       "33              Stair Lift (Non MTR managed facility)        輪椅升降台 (非港鐵管理的設施)   \n",
       "34                                   Lift - Paid Area            升降機 - 已付車費區域   \n",
       "35                          Vertical Lifting Platform                   垂直升降台   \n",
       "\n",
       "    Sorting_Order  \n",
       "0               1  \n",
       "1               2  \n",
       "2               3  \n",
       "3               4  \n",
       "4               5  \n",
       "5               6  \n",
       "6               7  \n",
       "7               8  \n",
       "8               9  \n",
       "9              10  \n",
       "10              3  \n",
       "11              4  \n",
       "12              5  \n",
       "13              6  \n",
       "14              7  \n",
       "15              8  \n",
       "16              8  \n",
       "17              9  \n",
       "18              1  \n",
       "19              2  \n",
       "20              3  \n",
       "21              4  \n",
       "22              5  \n",
       "23              6  \n",
       "24              7  \n",
       "25              8  \n",
       "26              9  \n",
       "27              1  \n",
       "28              2  \n",
       "29              3  \n",
       "30              4  \n",
       "31              5  \n",
       "32              6  \n",
       "33              7  \n",
       "34              8  \n",
       "35              9  "
      ]
     },
     "execution_count": 34,
     "metadata": {},
     "output_type": "execute_result"
    }
   ],
   "source": [
    "barrier_free_facility_category"
   ]
  },
  {
   "cell_type": "code",
   "execution_count": 35,
   "id": "11752654",
   "metadata": {},
   "outputs": [
    {
     "name": "stdout",
     "output_type": "stream",
     "text": [
      "<class 'pandas.core.frame.DataFrame'>\n",
      "RangeIndex: 36 entries, 0 to 35\n",
      "Data columns (total 7 columns):\n",
      " #   Column         Non-Null Count  Dtype \n",
      "---  ------         --------------  ----- \n",
      " 0   Item_Code      36 non-null     object\n",
      " 1   Category_Id    36 non-null     object\n",
      " 2   Category_En    36 non-null     object\n",
      " 3   Category_Zh    36 non-null     object\n",
      " 4   Facility_En    36 non-null     object\n",
      " 5   Facility_Zh    36 non-null     object\n",
      " 6   Sorting_Order  36 non-null     int64 \n",
      "dtypes: int64(1), object(6)\n",
      "memory usage: 2.1+ KB\n"
     ]
    }
   ],
   "source": [
    "barrier_free_facility_category.info()"
   ]
  },
  {
   "cell_type": "code",
   "execution_count": 45,
   "id": "a4dc4097",
   "metadata": {},
   "outputs": [],
   "source": [
    "# Rename Item_Code to Facility_Id for consistency\n",
    "barrier_free_facility_category.rename(columns={'Item_Code': 'Facility_Id'}, inplace=True)"
   ]
  },
  {
   "cell_type": "markdown",
   "id": "3cfcf364",
   "metadata": {},
   "source": [
    "### MTR lines and stations"
   ]
  },
  {
   "cell_type": "code",
   "execution_count": 39,
   "id": "9466568d",
   "metadata": {},
   "outputs": [
    {
     "data": {
      "application/vnd.microsoft.datawrangler.viewer.v0+json": {
       "columns": [
        {
         "name": "index",
         "rawType": "int64",
         "type": "integer"
        },
        {
         "name": "Line Code",
         "rawType": "object",
         "type": "string"
        },
        {
         "name": "Direction",
         "rawType": "object",
         "type": "string"
        },
        {
         "name": "Station Code",
         "rawType": "object",
         "type": "string"
        },
        {
         "name": "Station ID",
         "rawType": "float64",
         "type": "float"
        },
        {
         "name": "Chinese Name",
         "rawType": "object",
         "type": "string"
        },
        {
         "name": "English Name",
         "rawType": "object",
         "type": "string"
        },
        {
         "name": "Sequence",
         "rawType": "float64",
         "type": "float"
        }
       ],
       "conversionMethod": "pd.DataFrame",
       "ref": "b50dec02-3fae-4ab8-8c5f-1cc92d6b7733",
       "rows": [
        [
         "0",
         "AEL",
         "DT",
         "AWE",
         "56.0",
         "博覽館",
         "AsiaWorld-Expo",
         "1.0"
        ],
        [
         "1",
         "AEL",
         "DT",
         "AIR",
         "47.0",
         "機場",
         "Airport",
         "2.0"
        ],
        [
         "2",
         "AEL",
         "DT",
         "TSY",
         "46.0",
         "青衣",
         "Tsing Yi",
         "3.0"
        ],
        [
         "3",
         "AEL",
         "DT",
         "KOW",
         "45.0",
         "九龍",
         "Kowloon",
         "4.0"
        ],
        [
         "4",
         "AEL",
         "DT",
         "HOK",
         "44.0",
         "香港",
         "Hong Kong",
         "5.0"
        ]
       ],
       "shape": {
        "columns": 7,
        "rows": 5
       }
      },
      "text/html": [
       "<div>\n",
       "<style scoped>\n",
       "    .dataframe tbody tr th:only-of-type {\n",
       "        vertical-align: middle;\n",
       "    }\n",
       "\n",
       "    .dataframe tbody tr th {\n",
       "        vertical-align: top;\n",
       "    }\n",
       "\n",
       "    .dataframe thead th {\n",
       "        text-align: right;\n",
       "    }\n",
       "</style>\n",
       "<table border=\"1\" class=\"dataframe\">\n",
       "  <thead>\n",
       "    <tr style=\"text-align: right;\">\n",
       "      <th></th>\n",
       "      <th>Line Code</th>\n",
       "      <th>Direction</th>\n",
       "      <th>Station Code</th>\n",
       "      <th>Station ID</th>\n",
       "      <th>Chinese Name</th>\n",
       "      <th>English Name</th>\n",
       "      <th>Sequence</th>\n",
       "    </tr>\n",
       "  </thead>\n",
       "  <tbody>\n",
       "    <tr>\n",
       "      <th>0</th>\n",
       "      <td>AEL</td>\n",
       "      <td>DT</td>\n",
       "      <td>AWE</td>\n",
       "      <td>56.0</td>\n",
       "      <td>博覽館</td>\n",
       "      <td>AsiaWorld-Expo</td>\n",
       "      <td>1.0</td>\n",
       "    </tr>\n",
       "    <tr>\n",
       "      <th>1</th>\n",
       "      <td>AEL</td>\n",
       "      <td>DT</td>\n",
       "      <td>AIR</td>\n",
       "      <td>47.0</td>\n",
       "      <td>機場</td>\n",
       "      <td>Airport</td>\n",
       "      <td>2.0</td>\n",
       "    </tr>\n",
       "    <tr>\n",
       "      <th>2</th>\n",
       "      <td>AEL</td>\n",
       "      <td>DT</td>\n",
       "      <td>TSY</td>\n",
       "      <td>46.0</td>\n",
       "      <td>青衣</td>\n",
       "      <td>Tsing Yi</td>\n",
       "      <td>3.0</td>\n",
       "    </tr>\n",
       "    <tr>\n",
       "      <th>3</th>\n",
       "      <td>AEL</td>\n",
       "      <td>DT</td>\n",
       "      <td>KOW</td>\n",
       "      <td>45.0</td>\n",
       "      <td>九龍</td>\n",
       "      <td>Kowloon</td>\n",
       "      <td>4.0</td>\n",
       "    </tr>\n",
       "    <tr>\n",
       "      <th>4</th>\n",
       "      <td>AEL</td>\n",
       "      <td>DT</td>\n",
       "      <td>HOK</td>\n",
       "      <td>44.0</td>\n",
       "      <td>香港</td>\n",
       "      <td>Hong Kong</td>\n",
       "      <td>5.0</td>\n",
       "    </tr>\n",
       "  </tbody>\n",
       "</table>\n",
       "</div>"
      ],
      "text/plain": [
       "  Line Code Direction Station Code  Station ID Chinese Name    English Name  \\\n",
       "0       AEL        DT          AWE        56.0          博覽館  AsiaWorld-Expo   \n",
       "1       AEL        DT          AIR        47.0           機場         Airport   \n",
       "2       AEL        DT          TSY        46.0           青衣        Tsing Yi   \n",
       "3       AEL        DT          KOW        45.0           九龍         Kowloon   \n",
       "4       AEL        DT          HOK        44.0           香港       Hong Kong   \n",
       "\n",
       "   Sequence  \n",
       "0       1.0  \n",
       "1       2.0  \n",
       "2       3.0  \n",
       "3       4.0  \n",
       "4       5.0  "
      ]
     },
     "execution_count": 39,
     "metadata": {},
     "output_type": "execute_result"
    }
   ],
   "source": [
    "mtr_lines_and_stations.head()"
   ]
  },
  {
   "cell_type": "code",
   "execution_count": 40,
   "id": "6c890a3d",
   "metadata": {},
   "outputs": [
    {
     "name": "stdout",
     "output_type": "stream",
     "text": [
      "<class 'pandas.core.frame.DataFrame'>\n",
      "RangeIndex: 273 entries, 0 to 272\n",
      "Data columns (total 7 columns):\n",
      " #   Column        Non-Null Count  Dtype  \n",
      "---  ------        --------------  -----  \n",
      " 0   Line Code     270 non-null    object \n",
      " 1   Direction     270 non-null    object \n",
      " 2   Station Code  270 non-null    object \n",
      " 3   Station ID    270 non-null    float64\n",
      " 4   Chinese Name  270 non-null    object \n",
      " 5   English Name  270 non-null    object \n",
      " 6   Sequence      270 non-null    float64\n",
      "dtypes: float64(2), object(5)\n",
      "memory usage: 15.1+ KB\n"
     ]
    }
   ],
   "source": [
    "mtr_lines_and_stations.info()"
   ]
  },
  {
   "cell_type": "code",
   "execution_count": 64,
   "id": "c420722e",
   "metadata": {},
   "outputs": [],
   "source": [
    "mtr_lines_and_stations.dropna(axis=0, how='all', inplace=True)"
   ]
  },
  {
   "cell_type": "code",
   "execution_count": 73,
   "id": "b8cfb30e",
   "metadata": {},
   "outputs": [
    {
     "data": {
      "application/vnd.microsoft.datawrangler.viewer.v0+json": {
       "columns": [
        {
         "name": "index",
         "rawType": "int64",
         "type": "integer"
        },
        {
         "name": "Station ID",
         "rawType": "float64",
         "type": "float"
        },
        {
         "name": "Station Code",
         "rawType": "object",
         "type": "string"
        },
        {
         "name": "English Name",
         "rawType": "object",
         "type": "string"
        }
       ],
       "conversionMethod": "pd.DataFrame",
       "ref": "73518c1f-c8a5-4b8a-894d-4f9676849ea3",
       "rows": [
        [
         "0",
         "56.0",
         "AWE",
         "AsiaWorld-Expo"
        ],
        [
         "1",
         "47.0",
         "AIR",
         "Airport"
        ],
        [
         "2",
         "46.0",
         "TSY",
         "Tsing Yi"
        ],
        [
         "3",
         "45.0",
         "KOW",
         "Kowloon"
        ],
        [
         "4",
         "44.0",
         "HOK",
         "Hong Kong"
        ],
        [
         "10",
         "54.0",
         "SUN",
         "Sunny Bay"
        ],
        [
         "11",
         "55.0",
         "DIS",
         "Disneyland Resort"
        ],
        [
         "14",
         "76.0",
         "LOW",
         "Lo Wu"
        ],
        [
         "15",
         "75.0",
         "SHS",
         "Sheung Shui"
        ],
        [
         "16",
         "74.0",
         "FAN",
         "Fanling"
        ],
        [
         "17",
         "73.0",
         "TWO",
         "Tai Wo"
        ],
        [
         "18",
         "72.0",
         "TAP",
         "Tai Po Market"
        ],
        [
         "19",
         "71.0",
         "UNI",
         "University"
        ],
        [
         "20",
         "69.0",
         "FOT",
         "Fo Tan"
        ],
        [
         "21",
         "68.0",
         "SHT",
         "Sha Tin"
        ],
        [
         "22",
         "67.0",
         "TAW",
         "Tai Wai"
        ],
        [
         "23",
         "8.0",
         "KOT",
         "Kowloon Tong"
        ],
        [
         "24",
         "65.0",
         "MKK",
         "Mong Kok East"
        ],
        [
         "25",
         "64.0",
         "HUH",
         "Hung Hom"
        ],
        [
         "26",
         "94.0",
         "EXC",
         "Exhibition Centre"
        ],
        [
         "27",
         "2.0",
         "ADM",
         "Admiralty"
        ],
        [
         "28",
         "78.0",
         "LMC",
         "Lok Ma Chau"
        ],
        [
         "70",
         "37.0",
         "CHW",
         "Chai Wan"
        ],
        [
         "71",
         "36.0",
         "HFC",
         "Heng Fa Chuen"
        ],
        [
         "72",
         "35.0",
         "SKW",
         "Shau Kei Wan"
        ],
        [
         "73",
         "34.0",
         "SWH",
         "Sai Wan Ho"
        ],
        [
         "74",
         "33.0",
         "TAK",
         "Tai Koo"
        ],
        [
         "75",
         "32.0",
         "QUB",
         "Quarry Bay"
        ],
        [
         "76",
         "31.0",
         "NOP",
         "North Point"
        ],
        [
         "77",
         "30.0",
         "FOH",
         "Fortress Hill"
        ],
        [
         "78",
         "29.0",
         "TIH",
         "Tin Hau"
        ],
        [
         "79",
         "28.0",
         "CAB",
         "Causeway Bay"
        ],
        [
         "80",
         "27.0",
         "WAC",
         "Wan Chai"
        ],
        [
         "82",
         "1.0",
         "CEN",
         "Central"
        ],
        [
         "83",
         "26.0",
         "SHW",
         "Sheung Wan"
        ],
        [
         "84",
         "81.0",
         "SYP",
         "Sai Ying Pun"
        ],
        [
         "85",
         "82.0",
         "HKU",
         "HKU"
        ],
        [
         "86",
         "83.0",
         "KET",
         "Kennedy Town"
        ],
        [
         "104",
         "49.0",
         "TIK",
         "Tiu Keng Leng"
        ],
        [
         "105",
         "48.0",
         "YAT",
         "Yau Tong"
        ],
        [
         "106",
         "38.0",
         "LAT",
         "Lam Tin"
        ],
        [
         "107",
         "15.0",
         "KWT",
         "Kwun Tong"
        ],
        [
         "108",
         "14.0",
         "NTK",
         "Ngau Tau Kok"
        ],
        [
         "109",
         "13.0",
         "KOB",
         "Kowloon Bay"
        ],
        [
         "110",
         "12.0",
         "CHH",
         "Choi Hung"
        ],
        [
         "111",
         "11.0",
         "DIH",
         "Diamond Hill"
        ],
        [
         "112",
         "10.0",
         "WTS",
         "Wong Tai Sin"
        ],
        [
         "113",
         "9.0",
         "LOF",
         "Lok Fu"
        ],
        [
         "115",
         "7.0",
         "SKM",
         "Shek Kip Mei"
        ],
        [
         "116",
         "16.0",
         "PRE",
         "Prince Edward"
        ]
       ],
       "shape": {
        "columns": 3,
        "rows": 100
       }
      },
      "text/html": [
       "<div>\n",
       "<style scoped>\n",
       "    .dataframe tbody tr th:only-of-type {\n",
       "        vertical-align: middle;\n",
       "    }\n",
       "\n",
       "    .dataframe tbody tr th {\n",
       "        vertical-align: top;\n",
       "    }\n",
       "\n",
       "    .dataframe thead th {\n",
       "        text-align: right;\n",
       "    }\n",
       "</style>\n",
       "<table border=\"1\" class=\"dataframe\">\n",
       "  <thead>\n",
       "    <tr style=\"text-align: right;\">\n",
       "      <th></th>\n",
       "      <th>Station ID</th>\n",
       "      <th>Station Code</th>\n",
       "      <th>English Name</th>\n",
       "    </tr>\n",
       "  </thead>\n",
       "  <tbody>\n",
       "    <tr>\n",
       "      <th>0</th>\n",
       "      <td>56.0</td>\n",
       "      <td>AWE</td>\n",
       "      <td>AsiaWorld-Expo</td>\n",
       "    </tr>\n",
       "    <tr>\n",
       "      <th>1</th>\n",
       "      <td>47.0</td>\n",
       "      <td>AIR</td>\n",
       "      <td>Airport</td>\n",
       "    </tr>\n",
       "    <tr>\n",
       "      <th>2</th>\n",
       "      <td>46.0</td>\n",
       "      <td>TSY</td>\n",
       "      <td>Tsing Yi</td>\n",
       "    </tr>\n",
       "    <tr>\n",
       "      <th>3</th>\n",
       "      <td>45.0</td>\n",
       "      <td>KOW</td>\n",
       "      <td>Kowloon</td>\n",
       "    </tr>\n",
       "    <tr>\n",
       "      <th>4</th>\n",
       "      <td>44.0</td>\n",
       "      <td>HOK</td>\n",
       "      <td>Hong Kong</td>\n",
       "    </tr>\n",
       "    <tr>\n",
       "      <th>...</th>\n",
       "      <td>...</td>\n",
       "      <td>...</td>\n",
       "      <td>...</td>\n",
       "    </tr>\n",
       "    <tr>\n",
       "      <th>241</th>\n",
       "      <td>3.0</td>\n",
       "      <td>TST</td>\n",
       "      <td>Tsim Sha Tsui</td>\n",
       "    </tr>\n",
       "    <tr>\n",
       "      <th>261</th>\n",
       "      <td>86.0</td>\n",
       "      <td>OCP</td>\n",
       "      <td>Ocean Park</td>\n",
       "    </tr>\n",
       "    <tr>\n",
       "      <th>262</th>\n",
       "      <td>87.0</td>\n",
       "      <td>WCH</td>\n",
       "      <td>Wong Chuk Hang</td>\n",
       "    </tr>\n",
       "    <tr>\n",
       "      <th>263</th>\n",
       "      <td>88.0</td>\n",
       "      <td>LET</td>\n",
       "      <td>Lei Tung</td>\n",
       "    </tr>\n",
       "    <tr>\n",
       "      <th>264</th>\n",
       "      <td>89.0</td>\n",
       "      <td>SOH</td>\n",
       "      <td>South Horizons</td>\n",
       "    </tr>\n",
       "  </tbody>\n",
       "</table>\n",
       "<p>100 rows × 3 columns</p>\n",
       "</div>"
      ],
      "text/plain": [
       "     Station ID Station Code    English Name\n",
       "0          56.0          AWE  AsiaWorld-Expo\n",
       "1          47.0          AIR         Airport\n",
       "2          46.0          TSY        Tsing Yi\n",
       "3          45.0          KOW         Kowloon\n",
       "4          44.0          HOK       Hong Kong\n",
       "..          ...          ...             ...\n",
       "241         3.0          TST   Tsim Sha Tsui\n",
       "261        86.0          OCP      Ocean Park\n",
       "262        87.0          WCH  Wong Chuk Hang\n",
       "263        88.0          LET        Lei Tung\n",
       "264        89.0          SOH  South Horizons\n",
       "\n",
       "[100 rows x 3 columns]"
      ]
     },
     "execution_count": 73,
     "metadata": {},
     "output_type": "execute_result"
    }
   ],
   "source": [
    "mtr_stations = mtr_lines_and_stations[['Station ID', 'Station Code', 'English Name']].drop_duplicates(keep='first')\n",
    "mtr_stations"
   ]
  },
  {
   "cell_type": "markdown",
   "id": "5aa4d348",
   "metadata": {},
   "source": [
    "### Merge tables"
   ]
  },
  {
   "cell_type": "code",
   "execution_count": 78,
   "id": "86acf393",
   "metadata": {},
   "outputs": [],
   "source": [
    "barrier_free_facility_details = barrier_free_facility \\\n",
    "    .merge(barrier_free_facility_category, how='left', left_on='barrier_free_facility_id', right_on='Facility_Id') \\\n",
    "    .merge(mtr_stations, how='left', left_on='Station_No', right_on='Station ID')\n",
    "    \n",
    "#Drop unnecessary columns\n",
    "barrier_free_facility_details.drop(columns=['Facility_Id', 'Category_Zh', 'Facility_Zh', 'Sorting_Order', 'Station ID'],\n",
    "                                   inplace=True)"
   ]
  },
  {
   "cell_type": "code",
   "execution_count": 85,
   "id": "637c6c3c",
   "metadata": {},
   "outputs": [],
   "source": [
    "barrier_free_facility_details.rename(columns={'barrier_free_facility_id': 'facility_id',\n",
    "                                              'Station_No': 'station_no',\n",
    "                                              'Category_Id': 'facility_category_id',\n",
    "                                              'Category_En': 'facility_category_en',\n",
    "                                              'Facility_En': 'facility_en',\n",
    "                                              'Station Code': 'station_code',\n",
    "                                              'English Name': 'station_name_en'}, \n",
    "                                     inplace=True)"
   ]
  },
  {
   "cell_type": "code",
   "execution_count": 86,
   "id": "9caf037c",
   "metadata": {},
   "outputs": [
    {
     "name": "stdout",
     "output_type": "stream",
     "text": [
      "<class 'pandas.core.frame.DataFrame'>\n",
      "RangeIndex: 3564 entries, 0 to 3563\n",
      "Data columns (total 8 columns):\n",
      " #   Column                Non-Null Count  Dtype \n",
      "---  ------                --------------  ----- \n",
      " 0   station_no            3564 non-null   int64 \n",
      " 1   facility_id           3564 non-null   object\n",
      " 2   is_available          3564 non-null   object\n",
      " 3   facility_category_id  3564 non-null   object\n",
      " 4   facility_category_en  3564 non-null   object\n",
      " 5   facility_en           3564 non-null   object\n",
      " 6   station_code          3492 non-null   object\n",
      " 7   station_name_en       3492 non-null   object\n",
      "dtypes: int64(1), object(7)\n",
      "memory usage: 222.9+ KB\n"
     ]
    }
   ],
   "source": [
    "barrier_free_facility_details.info()"
   ]
  },
  {
   "cell_type": "code",
   "execution_count": 87,
   "id": "5b1f79c3",
   "metadata": {},
   "outputs": [
    {
     "data": {
      "application/vnd.microsoft.datawrangler.viewer.v0+json": {
       "columns": [
        {
         "name": "index",
         "rawType": "int64",
         "type": "integer"
        },
        {
         "name": "station_no",
         "rawType": "int64",
         "type": "integer"
        },
        {
         "name": "facility_id",
         "rawType": "object",
         "type": "string"
        },
        {
         "name": "is_available",
         "rawType": "object",
         "type": "string"
        },
        {
         "name": "facility_category_id",
         "rawType": "object",
         "type": "string"
        },
        {
         "name": "facility_category_en",
         "rawType": "object",
         "type": "string"
        },
        {
         "name": "facility_en",
         "rawType": "object",
         "type": "string"
        },
        {
         "name": "station_code",
         "rawType": "object",
         "type": "unknown"
        },
        {
         "name": "station_name_en",
         "rawType": "object",
         "type": "unknown"
        }
       ],
       "conversionMethod": "pd.DataFrame",
       "ref": "e4c52d97-eb71-4743-b1eb-dff470e8ce74",
       "rows": [
        [
         "2196",
         "70",
         "AJ1",
         "N",
         "AJ",
         "System Accessibility",
         "Same Level",
         null,
         null
        ],
        [
         "2197",
         "70",
         "AJ2",
         "N",
         "AJ",
         "System Accessibility",
         "Ramp",
         null,
         null
        ],
        [
         "2198",
         "70",
         "AJ3",
         "N",
         "AJ",
         "System Accessibility",
         "Lift - Unpaid Area",
         null,
         null
        ],
        [
         "2199",
         "70",
         "AJ4",
         "N",
         "AJ",
         "System Accessibility",
         "Lift - Unpaid Area (Non MTR managed facility)",
         null,
         null
        ],
        [
         "2200",
         "70",
         "AJ5",
         "Y",
         "AJ",
         "System Accessibility",
         "Stair Lift",
         null,
         null
        ],
        [
         "2201",
         "70",
         "AJ6",
         "N",
         "AJ",
         "System Accessibility",
         "Wheelchair Aid",
         null,
         null
        ],
        [
         "2202",
         "70",
         "AJ7",
         "N",
         "AJ",
         "System Accessibility",
         "Stair Lift (Non MTR managed facility)",
         null,
         null
        ],
        [
         "2203",
         "70",
         "AJ8",
         "N",
         "AJ",
         "System Accessibility",
         "Lift - Paid Area",
         null,
         null
        ],
        [
         "2204",
         "70",
         "AJ9",
         "N",
         "AJ",
         "System Accessibility",
         "Vertical Lifting Platform",
         null,
         null
        ],
        [
         "2205",
         "70",
         "HIn1",
         "Y",
         "HJ",
         "Facilities for Hearing Impaired",
         "Information Cards",
         null,
         null
        ],
        [
         "2206",
         "70",
         "HJ1",
         "Y",
         "HJ",
         "Facilities for Hearing Impaired",
         "Induction Loops",
         null,
         null
        ],
        [
         "2207",
         "70",
         "HJ2",
         "Y",
         "HJ",
         "Facilities for Hearing Impaired",
         "Passenger Info Display Systems",
         null,
         null
        ],
        [
         "2208",
         "70",
         "HJ3",
         "N",
         "HJ",
         "Facilities for Hearing Impaired",
         "Flashing System Maps",
         null,
         null
        ],
        [
         "2209",
         "70",
         "HJ4",
         "Y",
         "HJ",
         "Facilities for Hearing Impaired",
         "Active Line Diagrams",
         null,
         null
        ],
        [
         "2210",
         "70",
         "HJ5",
         "N",
         "HJ",
         "Facilities for Hearing Impaired",
         "On Train Info - Infopanels",
         null,
         null
        ],
        [
         "2211",
         "70",
         "HJ6",
         "N",
         "HJ",
         "Facilities for Hearing Impaired",
         "On Train Info - LCD Infopanels",
         null,
         null
        ],
        [
         "2212",
         "70",
         "HJ7",
         "Y",
         "HJ",
         "Facilities for Hearing Impaired",
         "On Train Info - MTR In-train TV",
         null,
         null
        ],
        [
         "2213",
         "70",
         "HJ8",
         "N",
         "HJ",
         "Facilities for Hearing Impaired",
         "On Train Info - OPIS (For LR)",
         null,
         null
        ],
        [
         "2214",
         "70",
         "MJ1",
         "Y",
         "MJ",
         "Facilities for Mobility Impaired",
         "Wide Gates",
         null,
         null
        ],
        [
         "2215",
         "70",
         "MJ2",
         "Y",
         "MJ",
         "Facilities for Mobility Impaired",
         "Portable or Movable Ramps",
         null,
         null
        ],
        [
         "2216",
         "70",
         "MJ3",
         "Y",
         "MJ",
         "Facilities for Mobility Impaired",
         "Multi-Purpose Areas",
         null,
         null
        ],
        [
         "2217",
         "70",
         "MJ4",
         "N",
         "MJ",
         "Facilities for Mobility Impaired",
         "Accessible Toilets (Unpaid Area)",
         null,
         null
        ],
        [
         "2218",
         "70",
         "MJ5",
         "N",
         "MJ",
         "Facilities for Mobility Impaired",
         "Accessible Toilets (Paid Area)",
         null,
         null
        ],
        [
         "2219",
         "70",
         "MJ6",
         "N",
         "MJ",
         "Facilities for Mobility Impaired",
         "Accessible Toilets (Staff Area)",
         null,
         null
        ],
        [
         "2220",
         "70",
         "MJ7",
         "N",
         "MJ",
         "Facilities for Mobility Impaired",
         "Accessible-car service (Contact Station Staff to arrange on arrival)",
         null,
         null
        ],
        [
         "2221",
         "70",
         "MJ8",
         "N",
         "MJ",
         "Facilities for Mobility Impaired",
         "Socket for Powered Wheelchair",
         null,
         null
        ],
        [
         "2222",
         "70",
         "VIn1",
         "N",
         "VJ",
         "Facilities for Visually Impaired",
         "Tactile Station Layout Maps",
         null,
         null
        ],
        [
         "2223",
         "70",
         "VIn2",
         "Y",
         "VJ",
         "Facilities for Visually Impaired",
         "Modification of Obstructions",
         null,
         null
        ],
        [
         "2224",
         "70",
         "VJ1",
         "Y",
         "VJ",
         "Facilities for Visually Impaired",
         "Tactile Guide Paths",
         null,
         null
        ],
        [
         "2225",
         "70",
         "VJ2",
         "Y",
         "VJ",
         "Facilities for Visually Impaired",
         "Escalator Audible Warning Signals",
         null,
         null
        ],
        [
         "2226",
         "70",
         "VJ3",
         "Y",
         "VJ",
         "Facilities for Visually Impaired",
         "Platform Tactile Yellow Lines",
         null,
         null
        ],
        [
         "2227",
         "70",
         "VJ4",
         "N",
         "VJ",
         "Facilities for Visually Impaired",
         "Audible Device",
         null,
         null
        ],
        [
         "2228",
         "70",
         "VJ5",
         "N",
         "VJ",
         "Facilities for Visually Impaired",
         "Braille",
         null,
         null
        ],
        [
         "2229",
         "70",
         "VJ6",
         "Y",
         "VJ",
         "Facilities for Visually Impaired",
         "Colour Contrast Grab Poles",
         null,
         null
        ],
        [
         "2230",
         "70",
         "VJ7",
         "Y",
         "VJ",
         "Facilities for Visually Impaired",
         "Buzzer",
         null,
         null
        ],
        [
         "2231",
         "70",
         "VJ8",
         "Y",
         "VJ",
         "Facilities for Visually Impaired",
         "Colour Contrast Inter-Car Barriers",
         null,
         null
        ],
        [
         "3348",
         "888",
         "AJ1",
         "N",
         "AJ",
         "System Accessibility",
         "Same Level",
         null,
         null
        ],
        [
         "3349",
         "888",
         "AJ2",
         "N",
         "AJ",
         "System Accessibility",
         "Ramp",
         null,
         null
        ],
        [
         "3350",
         "888",
         "AJ3",
         "N",
         "AJ",
         "System Accessibility",
         "Lift - Unpaid Area",
         null,
         null
        ],
        [
         "3351",
         "888",
         "AJ4",
         "N",
         "AJ",
         "System Accessibility",
         "Lift - Unpaid Area (Non MTR managed facility)",
         null,
         null
        ],
        [
         "3352",
         "888",
         "AJ5",
         "N",
         "AJ",
         "System Accessibility",
         "Stair Lift",
         null,
         null
        ],
        [
         "3353",
         "888",
         "AJ6",
         "N",
         "AJ",
         "System Accessibility",
         "Wheelchair Aid",
         null,
         null
        ],
        [
         "3354",
         "888",
         "AJ7",
         "N",
         "AJ",
         "System Accessibility",
         "Stair Lift (Non MTR managed facility)",
         null,
         null
        ],
        [
         "3355",
         "888",
         "AJ8",
         "N",
         "AJ",
         "System Accessibility",
         "Lift - Paid Area",
         null,
         null
        ],
        [
         "3356",
         "888",
         "AJ9",
         "N",
         "AJ",
         "System Accessibility",
         "Vertical Lifting Platform",
         null,
         null
        ],
        [
         "3357",
         "888",
         "HIn1",
         "N",
         "HJ",
         "Facilities for Hearing Impaired",
         "Information Cards",
         null,
         null
        ],
        [
         "3358",
         "888",
         "HJ1",
         "N",
         "HJ",
         "Facilities for Hearing Impaired",
         "Induction Loops",
         null,
         null
        ],
        [
         "3359",
         "888",
         "HJ2",
         "N",
         "HJ",
         "Facilities for Hearing Impaired",
         "Passenger Info Display Systems",
         null,
         null
        ],
        [
         "3360",
         "888",
         "HJ3",
         "N",
         "HJ",
         "Facilities for Hearing Impaired",
         "Flashing System Maps",
         null,
         null
        ],
        [
         "3361",
         "888",
         "HJ4",
         "N",
         "HJ",
         "Facilities for Hearing Impaired",
         "Active Line Diagrams",
         null,
         null
        ]
       ],
       "shape": {
        "columns": 8,
        "rows": 72
       }
      },
      "text/html": [
       "<div>\n",
       "<style scoped>\n",
       "    .dataframe tbody tr th:only-of-type {\n",
       "        vertical-align: middle;\n",
       "    }\n",
       "\n",
       "    .dataframe tbody tr th {\n",
       "        vertical-align: top;\n",
       "    }\n",
       "\n",
       "    .dataframe thead th {\n",
       "        text-align: right;\n",
       "    }\n",
       "</style>\n",
       "<table border=\"1\" class=\"dataframe\">\n",
       "  <thead>\n",
       "    <tr style=\"text-align: right;\">\n",
       "      <th></th>\n",
       "      <th>station_no</th>\n",
       "      <th>facility_id</th>\n",
       "      <th>is_available</th>\n",
       "      <th>facility_category_id</th>\n",
       "      <th>facility_category_en</th>\n",
       "      <th>facility_en</th>\n",
       "      <th>station_code</th>\n",
       "      <th>station_name_en</th>\n",
       "    </tr>\n",
       "  </thead>\n",
       "  <tbody>\n",
       "    <tr>\n",
       "      <th>2196</th>\n",
       "      <td>70</td>\n",
       "      <td>AJ1</td>\n",
       "      <td>N</td>\n",
       "      <td>AJ</td>\n",
       "      <td>System Accessibility</td>\n",
       "      <td>Same Level</td>\n",
       "      <td>NaN</td>\n",
       "      <td>NaN</td>\n",
       "    </tr>\n",
       "    <tr>\n",
       "      <th>2197</th>\n",
       "      <td>70</td>\n",
       "      <td>AJ2</td>\n",
       "      <td>N</td>\n",
       "      <td>AJ</td>\n",
       "      <td>System Accessibility</td>\n",
       "      <td>Ramp</td>\n",
       "      <td>NaN</td>\n",
       "      <td>NaN</td>\n",
       "    </tr>\n",
       "    <tr>\n",
       "      <th>2198</th>\n",
       "      <td>70</td>\n",
       "      <td>AJ3</td>\n",
       "      <td>N</td>\n",
       "      <td>AJ</td>\n",
       "      <td>System Accessibility</td>\n",
       "      <td>Lift - Unpaid Area</td>\n",
       "      <td>NaN</td>\n",
       "      <td>NaN</td>\n",
       "    </tr>\n",
       "    <tr>\n",
       "      <th>2199</th>\n",
       "      <td>70</td>\n",
       "      <td>AJ4</td>\n",
       "      <td>N</td>\n",
       "      <td>AJ</td>\n",
       "      <td>System Accessibility</td>\n",
       "      <td>Lift - Unpaid Area (Non MTR managed facility)</td>\n",
       "      <td>NaN</td>\n",
       "      <td>NaN</td>\n",
       "    </tr>\n",
       "    <tr>\n",
       "      <th>2200</th>\n",
       "      <td>70</td>\n",
       "      <td>AJ5</td>\n",
       "      <td>Y</td>\n",
       "      <td>AJ</td>\n",
       "      <td>System Accessibility</td>\n",
       "      <td>Stair Lift</td>\n",
       "      <td>NaN</td>\n",
       "      <td>NaN</td>\n",
       "    </tr>\n",
       "    <tr>\n",
       "      <th>...</th>\n",
       "      <td>...</td>\n",
       "      <td>...</td>\n",
       "      <td>...</td>\n",
       "      <td>...</td>\n",
       "      <td>...</td>\n",
       "      <td>...</td>\n",
       "      <td>...</td>\n",
       "      <td>...</td>\n",
       "    </tr>\n",
       "    <tr>\n",
       "      <th>3379</th>\n",
       "      <td>888</td>\n",
       "      <td>VJ4</td>\n",
       "      <td>N</td>\n",
       "      <td>VJ</td>\n",
       "      <td>Facilities for Visually Impaired</td>\n",
       "      <td>Audible Device</td>\n",
       "      <td>NaN</td>\n",
       "      <td>NaN</td>\n",
       "    </tr>\n",
       "    <tr>\n",
       "      <th>3380</th>\n",
       "      <td>888</td>\n",
       "      <td>VJ5</td>\n",
       "      <td>N</td>\n",
       "      <td>VJ</td>\n",
       "      <td>Facilities for Visually Impaired</td>\n",
       "      <td>Braille</td>\n",
       "      <td>NaN</td>\n",
       "      <td>NaN</td>\n",
       "    </tr>\n",
       "    <tr>\n",
       "      <th>3381</th>\n",
       "      <td>888</td>\n",
       "      <td>VJ6</td>\n",
       "      <td>N</td>\n",
       "      <td>VJ</td>\n",
       "      <td>Facilities for Visually Impaired</td>\n",
       "      <td>Colour Contrast Grab Poles</td>\n",
       "      <td>NaN</td>\n",
       "      <td>NaN</td>\n",
       "    </tr>\n",
       "    <tr>\n",
       "      <th>3382</th>\n",
       "      <td>888</td>\n",
       "      <td>VJ7</td>\n",
       "      <td>N</td>\n",
       "      <td>VJ</td>\n",
       "      <td>Facilities for Visually Impaired</td>\n",
       "      <td>Buzzer</td>\n",
       "      <td>NaN</td>\n",
       "      <td>NaN</td>\n",
       "    </tr>\n",
       "    <tr>\n",
       "      <th>3383</th>\n",
       "      <td>888</td>\n",
       "      <td>VJ8</td>\n",
       "      <td>N</td>\n",
       "      <td>VJ</td>\n",
       "      <td>Facilities for Visually Impaired</td>\n",
       "      <td>Colour Contrast Inter-Car Barriers</td>\n",
       "      <td>NaN</td>\n",
       "      <td>NaN</td>\n",
       "    </tr>\n",
       "  </tbody>\n",
       "</table>\n",
       "<p>72 rows × 8 columns</p>\n",
       "</div>"
      ],
      "text/plain": [
       "      station_no facility_id is_available facility_category_id  \\\n",
       "2196          70         AJ1            N                   AJ   \n",
       "2197          70         AJ2            N                   AJ   \n",
       "2198          70         AJ3            N                   AJ   \n",
       "2199          70         AJ4            N                   AJ   \n",
       "2200          70         AJ5            Y                   AJ   \n",
       "...          ...         ...          ...                  ...   \n",
       "3379         888         VJ4            N                   VJ   \n",
       "3380         888         VJ5            N                   VJ   \n",
       "3381         888         VJ6            N                   VJ   \n",
       "3382         888         VJ7            N                   VJ   \n",
       "3383         888         VJ8            N                   VJ   \n",
       "\n",
       "                  facility_category_en  \\\n",
       "2196              System Accessibility   \n",
       "2197              System Accessibility   \n",
       "2198              System Accessibility   \n",
       "2199              System Accessibility   \n",
       "2200              System Accessibility   \n",
       "...                                ...   \n",
       "3379  Facilities for Visually Impaired   \n",
       "3380  Facilities for Visually Impaired   \n",
       "3381  Facilities for Visually Impaired   \n",
       "3382  Facilities for Visually Impaired   \n",
       "3383  Facilities for Visually Impaired   \n",
       "\n",
       "                                        facility_en station_code  \\\n",
       "2196                                     Same Level          NaN   \n",
       "2197                                           Ramp          NaN   \n",
       "2198                             Lift - Unpaid Area          NaN   \n",
       "2199  Lift - Unpaid Area (Non MTR managed facility)          NaN   \n",
       "2200                                     Stair Lift          NaN   \n",
       "...                                             ...          ...   \n",
       "3379                                 Audible Device          NaN   \n",
       "3380                                        Braille          NaN   \n",
       "3381                     Colour Contrast Grab Poles          NaN   \n",
       "3382                                         Buzzer          NaN   \n",
       "3383             Colour Contrast Inter-Car Barriers          NaN   \n",
       "\n",
       "     station_name_en  \n",
       "2196             NaN  \n",
       "2197             NaN  \n",
       "2198             NaN  \n",
       "2199             NaN  \n",
       "2200             NaN  \n",
       "...              ...  \n",
       "3379             NaN  \n",
       "3380             NaN  \n",
       "3381             NaN  \n",
       "3382             NaN  \n",
       "3383             NaN  \n",
       "\n",
       "[72 rows x 8 columns]"
      ]
     },
     "execution_count": 87,
     "metadata": {},
     "output_type": "execute_result"
    }
   ],
   "source": [
    "barrier_free_facility_details[barrier_free_facility_details.isna().any(axis=1)]"
   ]
  },
  {
   "cell_type": "code",
   "execution_count": null,
   "id": "2703bb55",
   "metadata": {},
   "outputs": [],
   "source": []
  }
 ],
 "metadata": {
  "kernelspec": {
   "display_name": "Python 3",
   "language": "python",
   "name": "python3"
  },
  "language_info": {
   "codemirror_mode": {
    "name": "ipython",
    "version": 3
   },
   "file_extension": ".py",
   "mimetype": "text/x-python",
   "name": "python",
   "nbconvert_exporter": "python",
   "pygments_lexer": "ipython3",
   "version": "3.12.9"
  }
 },
 "nbformat": 4,
 "nbformat_minor": 5
}
